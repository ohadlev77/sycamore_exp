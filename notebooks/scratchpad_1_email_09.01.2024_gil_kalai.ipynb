{
 "cells": [
  {
   "cell_type": "code",
   "execution_count": 3,
   "id": "82593aa5",
   "metadata": {},
   "outputs": [],
   "source": [
    "from qiskit_ibm_provider import IBMProvider\n",
    "# from src.qiskit_rcs_v2.mine_v1_5q_rcs_data import export_execution_res\n",
    "\n",
    "\n",
    "provider = IBMProvider()\n",
    "\n",
    "jakarta_job = provider.retrieve_job(\"cir4c0tlipn2bcc0ce90\")\n",
    "nairobi_job = provider.retrieve_job(\"cir5ratlipn2bcc1evpg\")\n",
    "\n",
    "# export_execution_res(\n",
    "#     jakarta_job,\n",
    "#     filepath=\"/home/ohad/work/sycamore_exp_project/src/qiskit_rcs_v2/\" \\\n",
    "#         \"exp_data__ibmq_jakarta/ibmq_jakarta_counts.json\"\n",
    "# )\n",
    "\n",
    "# export_execution_res(\n",
    "#     nairobi_job,\n",
    "#     filepath=\"/home/ohad/work/sycamore_exp_project/src/qiskit_rcs_v2/\" \\\n",
    "#         \"exp_data__ibm_nairobi/ibm_nairobi_counts.json\"\n",
    "# )"
   ]
  },
  {
   "cell_type": "markdown",
   "id": "0b057f1f",
   "metadata": {},
   "source": [
    "-------------------"
   ]
  },
  {
   "cell_type": "code",
   "execution_count": 28,
   "id": "af555580",
   "metadata": {},
   "outputs": [
    {
     "data": {
      "text/plain": [
       "['11', '00', '00', '11', '11']"
      ]
     },
     "execution_count": 28,
     "metadata": {},
     "output_type": "execute_result"
    }
   ],
   "source": [
    "# Using the `memory` parameter of the `run` method scratchpad\n",
    "\n",
    "from qiskit import QuantumCircuit\n",
    "from qiskit_aer import AerSimulator\n",
    "\n",
    "qc = QuantumCircuit(2)\n",
    "qc.h(0)\n",
    "qc.cx(0, 1)\n",
    "qc.measure_all()\n",
    "\n",
    "AerSimulator().run(qc, memory=True, shots=5).result().get_memory()"
   ]
  },
  {
   "cell_type": "markdown",
   "id": "19dff243",
   "metadata": {},
   "source": [
    "----------------------------------------------------"
   ]
  },
  {
   "cell_type": "code",
   "execution_count": 40,
   "id": "54493f94",
   "metadata": {},
   "outputs": [],
   "source": [
    "\"\"\"Updating metadata in fake_guadalupe data with expected circuit fidelities.\"\"\"\n",
    "\n",
    "\n",
    "import json\n",
    "\n",
    "from qiskit import qpy\n",
    "from qiskit.providers.fake_provider import FakeGuadalupeV2\n",
    "\n",
    "from src.qiskit_rcs_v2.compute_expected_circuit_fidelity import compute_expected_fidelity\n",
    "\n",
    "\n",
    "DATA_PATH = \"/home/ohad/work/sycamore_exp_project/src/qiskit_rcs_v2/exp_data__12q__fake_guadalupe__v2\"\n",
    "\n",
    "with open(f\"{DATA_PATH}/transpiled_circuits.qpy\", \"rb\") as f:\n",
    "    transpiled_circuits = qpy.load(f)\n",
    "\n",
    "backend_props_json = f\"{FakeGuadalupeV2.dirname}/{FakeGuadalupeV2.props_filename}\"\n",
    "\n",
    "expected_fidelities = {}\n",
    "for index, circuit in enumerate(transpiled_circuits):\n",
    "    expected_fidelities[f\"circuit_{index}\"] = compute_expected_fidelity(circuit, backend_props_json)\n",
    "\n",
    "# with open(f\"{DATA_PATH}/metadata.json\", \"r\") as f:\n",
    "#     metadata = json.load(f)\n",
    "\n",
    "# metadata[\"expected_circuit_fidelities\"] = expected_fidelities\n",
    "\n",
    "# with open(f\"{DATA_PATH}/metadata.json\", \"w\") as f:\n",
    "#     json.dump(metadata, f, indent=4)"
   ]
  },
  {
   "cell_type": "code",
   "execution_count": 41,
   "id": "87fbaccd",
   "metadata": {},
   "outputs": [
    {
     "data": {
      "text/plain": [
       "{'circuit_0': {'expected_fidelity_before_readout': 0.5406767031195603,\n",
       "  'expected_fidelity': 0.41475883022772375},\n",
       " 'circuit_1': {'expected_fidelity_before_readout': 0.5406767031195603,\n",
       "  'expected_fidelity': 0.41475883022772375},\n",
       " 'circuit_2': {'expected_fidelity_before_readout': 0.5406767031195603,\n",
       "  'expected_fidelity': 0.41475883022772375},\n",
       " 'circuit_3': {'expected_fidelity_before_readout': 0.5406767031195603,\n",
       "  'expected_fidelity': 0.41475883022772375},\n",
       " 'circuit_4': {'expected_fidelity_before_readout': 0.5406767031195603,\n",
       "  'expected_fidelity': 0.41475883022772375},\n",
       " 'circuit_5': {'expected_fidelity_before_readout': 0.5406767031195603,\n",
       "  'expected_fidelity': 0.41475883022772375},\n",
       " 'circuit_6': {'expected_fidelity_before_readout': 0.5406767031195603,\n",
       "  'expected_fidelity': 0.41475883022772375},\n",
       " 'circuit_7': {'expected_fidelity_before_readout': 0.5406767031195603,\n",
       "  'expected_fidelity': 0.41475883022772375},\n",
       " 'circuit_8': {'expected_fidelity_before_readout': 0.5406767031195603,\n",
       "  'expected_fidelity': 0.41475883022772375},\n",
       " 'circuit_9': {'expected_fidelity_before_readout': 0.5406767031195603,\n",
       "  'expected_fidelity': 0.41475883022772375}}"
      ]
     },
     "execution_count": 41,
     "metadata": {},
     "output_type": "execute_result"
    }
   ],
   "source": [
    "expected_fidelities"
   ]
  },
  {
   "cell_type": "code",
   "execution_count": 37,
   "id": "0a9d08f4",
   "metadata": {},
   "outputs": [],
   "source": [
    "import os\n",
    "from sys import path\n",
    "\n",
    "path.append(\"/home/ohad/work/sycamore_exp_project/\")"
   ]
  },
  {
   "cell_type": "code",
   "execution_count": 39,
   "id": "67e13fa7",
   "metadata": {},
   "outputs": [
    {
     "data": {
      "text/plain": [
       "['/home/ohad/work/sycamore_exp_project/src/notebooks',\n",
       " '/usr/lib/python310.zip',\n",
       " '/usr/lib/python3.10',\n",
       " '/usr/lib/python3.10/lib-dynload',\n",
       " '',\n",
       " '/home/ohad/env_sycamore_exp_py3.10.9/lib/python3.10/site-packages',\n",
       " '/home/ohad/work/sycamore_exp_project/']"
      ]
     },
     "execution_count": 39,
     "metadata": {},
     "output_type": "execute_result"
    }
   ],
   "source": [
    "path"
   ]
  },
  {
   "cell_type": "markdown",
   "id": "c4527961",
   "metadata": {},
   "source": [
    "-----------"
   ]
  },
  {
   "cell_type": "code",
   "execution_count": 5,
   "id": "e7e6fd5f",
   "metadata": {},
   "outputs": [
    {
     "data": {
      "text/html": [
       "<div>\n",
       "<style scoped>\n",
       "    .dataframe tbody tr th:only-of-type {\n",
       "        vertical-align: middle;\n",
       "    }\n",
       "\n",
       "    .dataframe tbody tr th {\n",
       "        vertical-align: top;\n",
       "    }\n",
       "\n",
       "    .dataframe thead th {\n",
       "        text-align: right;\n",
       "    }\n",
       "</style>\n",
       "<table border=\"1\" class=\"dataframe\">\n",
       "  <thead>\n",
       "    <tr style=\"text-align: right;\">\n",
       "      <th></th>\n",
       "      <th>Qubit</th>\n",
       "      <th>T1 (us)</th>\n",
       "      <th>T2 (us)</th>\n",
       "      <th>Frequency (GHz)</th>\n",
       "      <th>Anharmonicity (GHz)</th>\n",
       "      <th>Readout assignment error</th>\n",
       "      <th>Prob meas0 prep1</th>\n",
       "      <th>Prob meas1 prep0</th>\n",
       "      <th>Readout length (ns)</th>\n",
       "      <th>ID error</th>\n",
       "      <th>√x (sx) error</th>\n",
       "      <th>Pauli-X error</th>\n",
       "      <th>CNOT error</th>\n",
       "      <th>Gate time (ns)</th>\n",
       "    </tr>\n",
       "  </thead>\n",
       "  <tbody>\n",
       "    <tr>\n",
       "      <th>0</th>\n",
       "      <td>0</td>\n",
       "      <td>132.741508</td>\n",
       "      <td>32.751246</td>\n",
       "      <td>5.260495</td>\n",
       "      <td>-0.339835</td>\n",
       "      <td>0.0230</td>\n",
       "      <td>0.0328</td>\n",
       "      <td>0.0132</td>\n",
       "      <td>5560.888889</td>\n",
       "      <td>0.000312</td>\n",
       "      <td>0.000312</td>\n",
       "      <td>0.000312</td>\n",
       "      <td>0_1:0.00787854078089184</td>\n",
       "      <td>0_1:248.88888888888889</td>\n",
       "    </tr>\n",
       "    <tr>\n",
       "      <th>1</th>\n",
       "      <td>1</td>\n",
       "      <td>115.906809</td>\n",
       "      <td>80.156178</td>\n",
       "      <td>5.170452</td>\n",
       "      <td>-0.340583</td>\n",
       "      <td>0.0248</td>\n",
       "      <td>0.0352</td>\n",
       "      <td>0.0128</td>\n",
       "      <td>5560.888889</td>\n",
       "      <td>0.000253</td>\n",
       "      <td>0.000253</td>\n",
       "      <td>0.000253</td>\n",
       "      <td>1_3:0.009795774129972817; 1_2:0.00798405232436...</td>\n",
       "      <td>1_3:270.22222222222223; 1_2:426.66666666666663...</td>\n",
       "    </tr>\n",
       "    <tr>\n",
       "      <th>2</th>\n",
       "      <td>2</td>\n",
       "      <td>116.941488</td>\n",
       "      <td>133.393398</td>\n",
       "      <td>5.274321</td>\n",
       "      <td>-0.338904</td>\n",
       "      <td>0.0329</td>\n",
       "      <td>0.0536</td>\n",
       "      <td>0.0122</td>\n",
       "      <td>5560.888889</td>\n",
       "      <td>0.000302</td>\n",
       "      <td>0.000302</td>\n",
       "      <td>0.000302</td>\n",
       "      <td>2_1:0.007984052324365387</td>\n",
       "      <td>2_1:391.1111111111111</td>\n",
       "    </tr>\n",
       "    <tr>\n",
       "      <th>3</th>\n",
       "      <td>3</td>\n",
       "      <td>137.182723</td>\n",
       "      <td>78.047461</td>\n",
       "      <td>5.026679</td>\n",
       "      <td>-0.342530</td>\n",
       "      <td>0.0278</td>\n",
       "      <td>0.0448</td>\n",
       "      <td>0.0108</td>\n",
       "      <td>5560.888889</td>\n",
       "      <td>0.000439</td>\n",
       "      <td>0.000439</td>\n",
       "      <td>0.000439</td>\n",
       "      <td>3_5:0.014520839693090676; 3_1:0.00979577412997...</td>\n",
       "      <td>3_5:277.3333333333333; 3_1:305.77777777777777</td>\n",
       "    </tr>\n",
       "    <tr>\n",
       "      <th>4</th>\n",
       "      <td>4</td>\n",
       "      <td>130.228712</td>\n",
       "      <td>83.856191</td>\n",
       "      <td>5.177168</td>\n",
       "      <td>-0.340590</td>\n",
       "      <td>0.0219</td>\n",
       "      <td>0.0334</td>\n",
       "      <td>0.0104</td>\n",
       "      <td>5560.888889</td>\n",
       "      <td>0.000753</td>\n",
       "      <td>0.000753</td>\n",
       "      <td>0.000753</td>\n",
       "      <td>4_5:0.009255560141260694</td>\n",
       "      <td>4_5:312.88888888888886</td>\n",
       "    </tr>\n",
       "    <tr>\n",
       "      <th>5</th>\n",
       "      <td>5</td>\n",
       "      <td>151.050147</td>\n",
       "      <td>20.394615</td>\n",
       "      <td>5.292507</td>\n",
       "      <td>-0.340532</td>\n",
       "      <td>0.0298</td>\n",
       "      <td>0.0378</td>\n",
       "      <td>0.0218</td>\n",
       "      <td>5560.888889</td>\n",
       "      <td>0.000378</td>\n",
       "      <td>0.000378</td>\n",
       "      <td>0.000378</td>\n",
       "      <td>5_6:0.006456162910762536; 5_4:0.00925556014126...</td>\n",
       "      <td>5_6:341.3333333333333; 5_4:277.3333333333333; ...</td>\n",
       "    </tr>\n",
       "    <tr>\n",
       "      <th>6</th>\n",
       "      <td>6</td>\n",
       "      <td>126.136424</td>\n",
       "      <td>102.581729</td>\n",
       "      <td>5.128685</td>\n",
       "      <td>-0.340436</td>\n",
       "      <td>0.0233</td>\n",
       "      <td>0.0360</td>\n",
       "      <td>0.0106</td>\n",
       "      <td>5560.888889</td>\n",
       "      <td>0.000192</td>\n",
       "      <td>0.000192</td>\n",
       "      <td>0.000192</td>\n",
       "      <td>6_5:0.006456162910762536</td>\n",
       "      <td>6_5:305.77777777777777</td>\n",
       "    </tr>\n",
       "  </tbody>\n",
       "</table>\n",
       "</div>"
      ],
      "text/plain": [
       "   Qubit     T1 (us)     T2 (us)  Frequency (GHz)  Anharmonicity (GHz)  \\\n",
       "0      0  132.741508   32.751246         5.260495            -0.339835   \n",
       "1      1  115.906809   80.156178         5.170452            -0.340583   \n",
       "2      2  116.941488  133.393398         5.274321            -0.338904   \n",
       "3      3  137.182723   78.047461         5.026679            -0.342530   \n",
       "4      4  130.228712   83.856191         5.177168            -0.340590   \n",
       "5      5  151.050147   20.394615         5.292507            -0.340532   \n",
       "6      6  126.136424  102.581729         5.128685            -0.340436   \n",
       "\n",
       "   Readout assignment error   Prob meas0 prep1   Prob meas1 prep0   \\\n",
       "0                     0.0230             0.0328             0.0132   \n",
       "1                     0.0248             0.0352             0.0128   \n",
       "2                     0.0329             0.0536             0.0122   \n",
       "3                     0.0278             0.0448             0.0108   \n",
       "4                     0.0219             0.0334             0.0104   \n",
       "5                     0.0298             0.0378             0.0218   \n",
       "6                     0.0233             0.0360             0.0106   \n",
       "\n",
       "   Readout length (ns)  ID error   √x (sx) error   Pauli-X error   \\\n",
       "0          5560.888889   0.000312        0.000312        0.000312   \n",
       "1          5560.888889   0.000253        0.000253        0.000253   \n",
       "2          5560.888889   0.000302        0.000302        0.000302   \n",
       "3          5560.888889   0.000439        0.000439        0.000439   \n",
       "4          5560.888889   0.000753        0.000753        0.000753   \n",
       "5          5560.888889   0.000378        0.000378        0.000378   \n",
       "6          5560.888889   0.000192        0.000192        0.000192   \n",
       "\n",
       "                                         CNOT error   \\\n",
       "0                            0_1:0.00787854078089184   \n",
       "1  1_3:0.009795774129972817; 1_2:0.00798405232436...   \n",
       "2                           2_1:0.007984052324365387   \n",
       "3  3_5:0.014520839693090676; 3_1:0.00979577412997...   \n",
       "4                           4_5:0.009255560141260694   \n",
       "5  5_6:0.006456162910762536; 5_4:0.00925556014126...   \n",
       "6                           6_5:0.006456162910762536   \n",
       "\n",
       "                                      Gate time (ns)  \n",
       "0                             0_1:248.88888888888889  \n",
       "1  1_3:270.22222222222223; 1_2:426.66666666666663...  \n",
       "2                              2_1:391.1111111111111  \n",
       "3      3_5:277.3333333333333; 3_1:305.77777777777777  \n",
       "4                             4_5:312.88888888888886  \n",
       "5  5_6:341.3333333333333; 5_4:277.3333333333333; ...  \n",
       "6                             6_5:305.77777777777777  "
      ]
     },
     "execution_count": 5,
     "metadata": {},
     "output_type": "execute_result"
    }
   ],
   "source": [
    "import pandas as pd\n",
    "\n",
    "calib_df = pd.read_csv(\n",
    "    \"/home/ohad/work/sycamore_exp_project/src/qiskit_rcs_v2/\" \\\n",
    "    \"exp_data__5q__ibm_nairobi__v1/ibm_nairobi_calibrations_2023-07-23T10_28_09Z.csv\"\n",
    ")\n",
    "\n",
    "calib_df"
   ]
  },
  {
   "cell_type": "code",
   "execution_count": 94,
   "id": "a049a837",
   "metadata": {},
   "outputs": [
    {
     "data": {
      "text/plain": [
       "[['1_3', '0.009795774129972817'],\n",
       " ['1_2', '0.007984052324365387'],\n",
       " ['1_0', '0.00787854078089184']]"
      ]
     },
     "execution_count": 94,
     "metadata": {},
     "output_type": "execute_result"
    }
   ],
   "source": [
    "gates_errors = calib_df.loc[1, \"CNOT error \"].replace(\" \", \"\").split(\";\")\n",
    "gates_errors\n",
    "gates_errors = [item.split(\":\") for item in gates_errors]\n",
    "gates_errors"
   ]
  },
  {
   "cell_type": "code",
   "execution_count": 93,
   "id": "ec862863",
   "metadata": {},
   "outputs": [
    {
     "data": {
      "text/plain": [
       "[[['1', '3'], '0.009795774129972817'],\n",
       " [['1', '2'], '0.007984052324365387'],\n",
       " [['1', '0'], '0.00787854078089184']]"
      ]
     },
     "execution_count": 93,
     "metadata": {},
     "output_type": "execute_result"
    }
   ],
   "source": [
    "for gate_error in gates_errors:\n",
    "    gate_error[0] = gate_error[0].split(\"_\")\n",
    "    "
   ]
  },
  {
   "cell_type": "code",
   "execution_count": 107,
   "id": "08ce6e64",
   "metadata": {},
   "outputs": [],
   "source": [
    "inst_qubits = [1, 3]"
   ]
  },
  {
   "cell_type": "code",
   "execution_count": 108,
   "id": "b64882f1",
   "metadata": {},
   "outputs": [],
   "source": [
    "for gate_error in gates_errors:\n",
    "    if str(inst_qubits[0]) in gate_error[0] and str(inst_qubits[1]) in gate_error[0]:\n",
    "        gate_fidelity = 1 - float(gate_error[1])"
   ]
  },
  {
   "cell_type": "code",
   "execution_count": 111,
   "id": "d23904eb",
   "metadata": {},
   "outputs": [
    {
     "data": {
      "text/plain": [
       "0.00979577412997279"
      ]
     },
     "execution_count": 111,
     "metadata": {},
     "output_type": "execute_result"
    }
   ],
   "source": [
    "1 - gate_fidelity"
   ]
  },
  {
   "cell_type": "code",
   "execution_count": 84,
   "id": "3260f015",
   "metadata": {},
   "outputs": [
    {
     "data": {
      "text/plain": [
       "'d ad d  '"
      ]
     },
     "execution_count": 84,
     "metadata": {},
     "output_type": "execute_result"
    }
   ],
   "source": [
    "\"  d ad d  \".lstrip()"
   ]
  },
  {
   "cell_type": "code",
   "execution_count": 48,
   "id": "f1f73962",
   "metadata": {},
   "outputs": [
    {
     "name": "stdout",
     "output_type": "stream",
     "text": [
      "Instruction(name='h', num_qubits=1, num_clbits=0, params=[])\n",
      "(Qubit(QuantumRegister(3, 'q'), 0),)\n",
      "\n",
      "Instruction(name='cx', num_qubits=2, num_clbits=0, params=[])\n",
      "(Qubit(QuantumRegister(3, 'q'), 0), Qubit(QuantumRegister(3, 'q'), 1))\n",
      "\n",
      "Instruction(name='sx', num_qubits=1, num_clbits=0, params=[])\n",
      "(Qubit(QuantumRegister(3, 'q'), 2),)\n",
      "\n"
     ]
    }
   ],
   "source": [
    "from qiskit import QuantumCircuit\n",
    "\n",
    "qc = QuantumCircuit(3)\n",
    "qc.h(0)\n",
    "qc.cx(0, 1)\n",
    "qc.sx(2)\n",
    "\n",
    "for instruction in qc.data:\n",
    "    print(instruction.operation)\n",
    "    print(instruction.qubits)\n",
    "    print()"
   ]
  }
 ],
 "metadata": {
  "kernelspec": {
   "display_name": "Python 3 (ipykernel)",
   "language": "python",
   "name": "python3"
  },
  "language_info": {
   "codemirror_mode": {
    "name": "ipython",
    "version": 3
   },
   "file_extension": ".py",
   "mimetype": "text/x-python",
   "name": "python",
   "nbconvert_exporter": "python",
   "pygments_lexer": "ipython3",
   "version": "3.10.12"
  }
 },
 "nbformat": 4,
 "nbformat_minor": 5
}
