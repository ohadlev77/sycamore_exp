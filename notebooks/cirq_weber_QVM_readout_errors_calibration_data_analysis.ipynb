{
 "cells": [
  {
   "cell_type": "markdown",
   "id": "0df76601",
   "metadata": {},
   "source": [
    "# Cirq Weber-QVM readout errors calibration data analysis"
   ]
  },
  {
   "cell_type": "markdown",
   "id": "f463e1e6",
   "metadata": {},
   "source": [
    "**Ohad Lev**\n",
    "\n",
    "**October 2024**"
   ]
  },
  {
   "cell_type": "markdown",
   "id": "bf90acfb",
   "metadata": {},
   "source": [
    "---------"
   ]
  },
  {
   "cell_type": "markdown",
   "id": "6127c76b",
   "metadata": {},
   "source": [
    "## Initializing desired data and containers"
   ]
  },
  {
   "cell_type": "code",
   "execution_count": 1,
   "id": "b6d129d2",
   "metadata": {},
   "outputs": [],
   "source": [
    "import cirq\n",
    "import cirq_google\n",
    "\n",
    "\n",
    "QUBIT_ORDER_12_QUBITS = [\n",
    "    cirq.GridQubit(3, 3),\n",
    "    cirq.GridQubit(3, 4),\n",
    "    cirq.GridQubit(3, 5),\n",
    "    cirq.GridQubit(3, 6),\n",
    "    cirq.GridQubit(4, 3),\n",
    "    cirq.GridQubit(4, 4),\n",
    "    cirq.GridQubit(4, 5),\n",
    "    cirq.GridQubit(4, 6),\n",
    "    cirq.GridQubit(5, 3),\n",
    "    cirq.GridQubit(5, 4),\n",
    "    cirq.GridQubit(5, 5),\n",
    "    cirq.GridQubit(5, 6),\n",
    "]\n",
    "\n",
    "\n",
    "\n",
    "QUBIT_ORDER_14_QUBITS = [\n",
    "    cirq.GridQubit(2, 4),\n",
    "    cirq.GridQubit(2, 5),\n",
    "    cirq.GridQubit(3, 3),\n",
    "    cirq.GridQubit(3, 4),\n",
    "    cirq.GridQubit(3, 5),\n",
    "    cirq.GridQubit(3, 6),\n",
    "    cirq.GridQubit(4, 3),\n",
    "    cirq.GridQubit(4, 4),\n",
    "    cirq.GridQubit(4, 5),\n",
    "    cirq.GridQubit(4, 6),\n",
    "    cirq.GridQubit(5, 3),\n",
    "    cirq.GridQubit(5, 4),\n",
    "    cirq.GridQubit(5, 5),\n",
    "    cirq.GridQubit(5, 6),\n",
    "]\n",
    "\n",
    "weber_calibration_data = cirq_google.engine.load_median_device_calibration(\"weber\")\n",
    "\n",
    "readout_errors = {\n",
    "    # The chance to measure |1> when prepared |0>, isolated for a single qubit\n",
    "    \"single_qubit_p00_error\": {},\n",
    "    \n",
    "    # The chance to measure |0> when prepared |1>, isolated for a single qubit\n",
    "    \"single_qubit_p11_error\": {},\n",
    "    \n",
    "    # The chance to measure |1> when prepared |0>, when measuring all device's qubits in parallel\n",
    "    \"parallel_p00_error\": {},\n",
    "    \n",
    "    # The chance to measure |0> when prepared |1>, when measuring all device's qubits in parallel\n",
    "    \"parallel_p11_error\": {}\n",
    "}"
   ]
  },
  {
   "cell_type": "markdown",
   "id": "700ba460",
   "metadata": {},
   "source": [
    "------------"
   ]
  },
  {
   "cell_type": "markdown",
   "id": "e6868c8e",
   "metadata": {},
   "source": [
    "## Calculating average asymmetric readout errrors for the the entire QPU"
   ]
  },
  {
   "cell_type": "code",
   "execution_count": 2,
   "id": "51d7e22c",
   "metadata": {},
   "outputs": [
    {
     "name": "stdout",
     "output_type": "stream",
     "text": [
      "{\n",
      "    \"single_qubit_p00_error\": {\n",
      "        \"qpu_average\": 0.01292830188679246\n",
      "    },\n",
      "    \"single_qubit_p11_error\": {\n",
      "        \"qpu_average\": 0.06565283018867925\n",
      "    },\n",
      "    \"parallel_p00_error\": {\n",
      "        \"qpu_average\": 0.01583490566037731\n",
      "    },\n",
      "    \"parallel_p11_error\": {\n",
      "        \"qpu_average\": 0.07423877358490566\n",
      "    }\n",
      "}\n"
     ]
    }
   ],
   "source": [
    "import json\n",
    "\n",
    "\n",
    "for readout_error_metric in readout_errors.keys():\n",
    "    \n",
    "    aggregated_error = 0\n",
    "    counter = 0\n",
    "    \n",
    "    for error_values in weber_calibration_data[readout_error_metric].values():\n",
    "        aggregated_error += error_values[0]\n",
    "        counter += 1\n",
    "        \n",
    "    avg_error = aggregated_error / counter\n",
    "    \n",
    "    readout_errors[readout_error_metric][\"qpu_average\"] = avg_error\n",
    "    \n",
    "print(json.dumps(readout_errors, indent=4))"
   ]
  },
  {
   "cell_type": "markdown",
   "id": "86055e08",
   "metadata": {},
   "source": [
    "-------"
   ]
  },
  {
   "cell_type": "markdown",
   "id": "4f3021f5",
   "metadata": {},
   "source": [
    "## Calculating average asymmetric readout errors for the 12- and 14-qubits schemes"
   ]
  },
  {
   "cell_type": "code",
   "execution_count": 3,
   "id": "dbe66b99",
   "metadata": {},
   "outputs": [
    {
     "name": "stdout",
     "output_type": "stream",
     "text": [
      "Asymmetric readout errors:\n",
      "\n",
      "{\n",
      "    \"single_qubit_p00_error\": {\n",
      "        \"qpu_average\": 0.01292830188679246,\n",
      "        \"12_scheme_average\": 0.012083333333333333,\n",
      "        \"14_scheme_average\": 0.011428571428571429\n",
      "    },\n",
      "    \"single_qubit_p11_error\": {\n",
      "        \"qpu_average\": 0.06565283018867925,\n",
      "        \"12_scheme_average\": 0.0695,\n",
      "        \"14_scheme_average\": 0.0675\n",
      "    },\n",
      "    \"parallel_p00_error\": {\n",
      "        \"qpu_average\": 0.01583490566037731,\n",
      "        \"12_scheme_average\": 0.015500833333333288,\n",
      "        \"14_scheme_average\": 0.014321071428571372\n",
      "    },\n",
      "    \"parallel_p11_error\": {\n",
      "        \"qpu_average\": 0.07423877358490566,\n",
      "        \"12_scheme_average\": 0.10046458333333337,\n",
      "        \"14_scheme_average\": 0.09495107142857144\n",
      "    }\n",
      "}\n"
     ]
    }
   ],
   "source": [
    "for readout_error_metric in readout_errors.keys():\n",
    "    \n",
    "    for scheme in (QUBIT_ORDER_12_QUBITS, QUBIT_ORDER_14_QUBITS):\n",
    "        \n",
    "        aggregated_error = 0\n",
    "        \n",
    "        for qubit in scheme:\n",
    "            aggregated_error += weber_calibration_data[readout_error_metric][(qubit, )][0]\n",
    "        \n",
    "        num_qubits = len(scheme)\n",
    "        avg_error = aggregated_error / num_qubits\n",
    "        readout_errors[readout_error_metric][f\"{num_qubits}_scheme_average\"] = avg_error\n",
    "\n",
    "print(\"Asymmetric readout errors:\")\n",
    "print()\n",
    "print(json.dumps(readout_errors, indent=4))"
   ]
  },
  {
   "cell_type": "markdown",
   "id": "5d8214c4",
   "metadata": {},
   "source": [
    "------------"
   ]
  },
  {
   "cell_type": "markdown",
   "id": "08a6d415",
   "metadata": {},
   "source": [
    "## Calculating average symmetric readout errors"
   ]
  },
  {
   "cell_type": "code",
   "execution_count": 4,
   "id": "66b8d24e",
   "metadata": {},
   "outputs": [
    {
     "name": "stdout",
     "output_type": "stream",
     "text": [
      "Symmetric readout errors:\n",
      "\n",
      "isolated_readout_errors:\n",
      "qpu_average_symmetric = 0.039290566037735855\n",
      "12_scheme_average_symmetric = 0.04079166666666667\n",
      "14_scheme_average_symmetric = 0.039464285714285716\n",
      "\n",
      "parallel_readout_errors:\n",
      "qpu_average_symmetric = 0.04503683962264149\n",
      "12_scheme_average_symmetric = 0.05798270833333333\n",
      "14_scheme_average_symmetric = 0.05463607142857141\n",
      "\n"
     ]
    }
   ],
   "source": [
    "print(\"Symmetric readout errors:\")\n",
    "print()\n",
    "\n",
    "for name, metrics_pair in {\n",
    "    \"isolated_readout_errors\": (\"single_qubit_p00_error\", \"single_qubit_p11_error\"),\n",
    "    \"parallel_readout_errors\": (\"parallel_p00_error\", \"parallel_p11_error\")\n",
    "}.items():\n",
    "    \n",
    "    print(f\"{name}:\")\n",
    "\n",
    "    for key in readout_errors[metrics_pair[0]].keys():\n",
    "        symmetric_error = (\n",
    "            readout_errors[metrics_pair[0]][key] + readout_errors[metrics_pair[1]][key]\n",
    "        ) / 2\n",
    "    \n",
    "        print(f\"{key}_symmetric = {symmetric_error}\")\n",
    "        \n",
    "    print()"
   ]
  },
  {
   "cell_type": "markdown",
   "id": "191572d0",
   "metadata": {},
   "source": [
    "--------------"
   ]
  },
  {
   "cell_type": "markdown",
   "id": "fdb050e6",
   "metadata": {},
   "source": [
    "## Metadata"
   ]
  },
  {
   "cell_type": "code",
   "execution_count": 5,
   "id": "0acd64a6",
   "metadata": {},
   "outputs": [
    {
     "name": "stdout",
     "output_type": "stream",
     "text": [
      "Python version = 3.10.12 (main, Sep 11 2024, 15:47:36) [GCC 11.4.0]\n",
      "cirq version = 1.4.1\n",
      "cirq_google version = 1.4.1\n"
     ]
    }
   ],
   "source": [
    "import sys\n",
    "\n",
    "print(\"Python version =\", sys.version)\n",
    "print(\"cirq version =\", cirq.__version__)\n",
    "print(\"cirq_google version =\", cirq_google.__version__)"
   ]
  }
 ],
 "metadata": {
  "kernelspec": {
   "display_name": "Python 3 (ipykernel)",
   "language": "python",
   "name": "python3"
  },
  "language_info": {
   "codemirror_mode": {
    "name": "ipython",
    "version": 3
   },
   "file_extension": ".py",
   "mimetype": "text/x-python",
   "name": "python",
   "nbconvert_exporter": "python",
   "pygments_lexer": "ipython3",
   "version": "3.10.12"
  }
 },
 "nbformat": 4,
 "nbformat_minor": 5
}
