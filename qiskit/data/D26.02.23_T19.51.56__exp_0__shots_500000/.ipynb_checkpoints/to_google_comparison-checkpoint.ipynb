{
 "cells": [
  {
   "cell_type": "code",
   "execution_count": 2,
   "id": "3a5e18e3",
   "metadata": {},
   "outputs": [
    {
     "data": {
      "text/html": [
       "<div>\n",
       "<style scoped>\n",
       "    .dataframe tbody tr th:only-of-type {\n",
       "        vertical-align: middle;\n",
       "    }\n",
       "\n",
       "    .dataframe tbody tr th {\n",
       "        vertical-align: top;\n",
       "    }\n",
       "\n",
       "    .dataframe thead th {\n",
       "        text-align: right;\n",
       "    }\n",
       "</style>\n",
       "<table border=\"1\" class=\"dataframe\">\n",
       "  <thead>\n",
       "    <tr style=\"text-align: right;\">\n",
       "      <th></th>\n",
       "      <th>bitstring</th>\n",
       "      <th>real_amp</th>\n",
       "      <th>complex_amp</th>\n",
       "    </tr>\n",
       "  </thead>\n",
       "  <tbody>\n",
       "    <tr>\n",
       "      <th>0</th>\n",
       "      <td>100001000001</td>\n",
       "      <td>0.019803</td>\n",
       "      <td>0.010644</td>\n",
       "    </tr>\n",
       "    <tr>\n",
       "      <th>1</th>\n",
       "      <td>101111011</td>\n",
       "      <td>0.004976</td>\n",
       "      <td>-0.024507</td>\n",
       "    </tr>\n",
       "    <tr>\n",
       "      <th>2</th>\n",
       "      <td>11000101100</td>\n",
       "      <td>-0.008536</td>\n",
       "      <td>-0.007013</td>\n",
       "    </tr>\n",
       "    <tr>\n",
       "      <th>3</th>\n",
       "      <td>111001100001</td>\n",
       "      <td>-0.010014</td>\n",
       "      <td>0.014747</td>\n",
       "    </tr>\n",
       "    <tr>\n",
       "      <th>4</th>\n",
       "      <td>1110110000</td>\n",
       "      <td>0.006820</td>\n",
       "      <td>0.010662</td>\n",
       "    </tr>\n",
       "    <tr>\n",
       "      <th>...</th>\n",
       "      <td>...</td>\n",
       "      <td>...</td>\n",
       "      <td>...</td>\n",
       "    </tr>\n",
       "    <tr>\n",
       "      <th>499995</th>\n",
       "      <td>101111100101</td>\n",
       "      <td>-0.010634</td>\n",
       "      <td>-0.004225</td>\n",
       "    </tr>\n",
       "    <tr>\n",
       "      <th>499996</th>\n",
       "      <td>100011100111</td>\n",
       "      <td>-0.002537</td>\n",
       "      <td>-0.005939</td>\n",
       "    </tr>\n",
       "    <tr>\n",
       "      <th>499997</th>\n",
       "      <td>100111101011</td>\n",
       "      <td>0.001222</td>\n",
       "      <td>-0.008354</td>\n",
       "    </tr>\n",
       "    <tr>\n",
       "      <th>499998</th>\n",
       "      <td>11001010110</td>\n",
       "      <td>-0.001545</td>\n",
       "      <td>0.019417</td>\n",
       "    </tr>\n",
       "    <tr>\n",
       "      <th>499999</th>\n",
       "      <td>110111101001</td>\n",
       "      <td>0.000122</td>\n",
       "      <td>0.021821</td>\n",
       "    </tr>\n",
       "  </tbody>\n",
       "</table>\n",
       "<p>500000 rows × 3 columns</p>\n",
       "</div>"
      ],
      "text/plain": [
       "           bitstring  real_amp  complex_amp\n",
       "0       100001000001  0.019803     0.010644\n",
       "1          101111011  0.004976    -0.024507\n",
       "2        11000101100 -0.008536    -0.007013\n",
       "3       111001100001 -0.010014     0.014747\n",
       "4         1110110000  0.006820     0.010662\n",
       "...              ...       ...          ...\n",
       "499995  101111100101 -0.010634    -0.004225\n",
       "499996  100011100111 -0.002537    -0.005939\n",
       "499997  100111101011  0.001222    -0.008354\n",
       "499998   11001010110 -0.001545     0.019417\n",
       "499999  110111101001  0.000122     0.021821\n",
       "\n",
       "[500000 rows x 3 columns]"
      ]
     },
     "execution_count": 2,
     "metadata": {},
     "output_type": "execute_result"
    }
   ],
   "source": [
    "import pandas as pd\n",
    "\n",
    "data = pd.read_csv(\n",
    "    \"/home/ohad/work/sycamore_exp_project/src/data/D26.02.23_T19.51.56__\" \\\n",
    "    \"exp_0__shots_500000/amplitudes_n12_m14_s0_e0_pEFGH.txt\",\n",
    "    sep=\"\\s+\"\n",
    ")\n",
    "\n",
    "data"
   ]
  },
  {
   "cell_type": "code",
   "execution_count": 7,
   "id": "807a8eef",
   "metadata": {},
   "outputs": [],
   "source": [
    "data.drop_duplicates(inplace=True)"
   ]
  },
  {
   "cell_type": "code",
   "execution_count": 13,
   "id": "1bd8ffac",
   "metadata": {},
   "outputs": [],
   "source": [
    "data.sort_values(\"bitstring\", inplace=True)"
   ]
  },
  {
   "cell_type": "code",
   "execution_count": 46,
   "id": "59ef6bd0",
   "metadata": {},
   "outputs": [],
   "source": [
    "import numpy as np\n",
    "data['prob'] = [((r ** 2) + (c ** 2)) for r,c in zip(data['real_amp'], data['complex_amp'])]"
   ]
  },
  {
   "cell_type": "code",
   "execution_count": 51,
   "id": "991d0230",
   "metadata": {},
   "outputs": [
    {
     "data": {
      "text/plain": [
       "0.00010905900199999999"
      ]
     },
     "execution_count": 51,
     "metadata": {},
     "output_type": "execute_result"
    }
   ],
   "source": [
    "((-0.002689) ** 2) + (0.010091 ** 2)"
   ]
  },
  {
   "cell_type": "code",
   "execution_count": 48,
   "id": "5faed59a",
   "metadata": {},
   "outputs": [
    {
     "data": {
      "text/plain": [
       "0.9999993510051941"
      ]
     },
     "execution_count": 48,
     "metadata": {},
     "output_type": "execute_result"
    }
   ],
   "source": [
    "sum(data['prob'])"
   ]
  },
  {
   "cell_type": "code",
   "execution_count": 47,
   "id": "3cad6d23",
   "metadata": {},
   "outputs": [
    {
     "data": {
      "text/html": [
       "<div>\n",
       "<style scoped>\n",
       "    .dataframe tbody tr th:only-of-type {\n",
       "        vertical-align: middle;\n",
       "    }\n",
       "\n",
       "    .dataframe tbody tr th {\n",
       "        vertical-align: top;\n",
       "    }\n",
       "\n",
       "    .dataframe thead th {\n",
       "        text-align: right;\n",
       "    }\n",
       "</style>\n",
       "<table border=\"1\" class=\"dataframe\">\n",
       "  <thead>\n",
       "    <tr style=\"text-align: right;\">\n",
       "      <th></th>\n",
       "      <th>bitstring</th>\n",
       "      <th>real_amp</th>\n",
       "      <th>complex_amp</th>\n",
       "      <th>prob</th>\n",
       "    </tr>\n",
       "  </thead>\n",
       "  <tbody>\n",
       "    <tr>\n",
       "      <th>7222</th>\n",
       "      <td>0</td>\n",
       "      <td>0.001091</td>\n",
       "      <td>0.002781</td>\n",
       "      <td>0.000009</td>\n",
       "    </tr>\n",
       "    <tr>\n",
       "      <th>2867</th>\n",
       "      <td>1</td>\n",
       "      <td>0.017359</td>\n",
       "      <td>-0.016713</td>\n",
       "      <td>0.000581</td>\n",
       "    </tr>\n",
       "    <tr>\n",
       "      <th>3582</th>\n",
       "      <td>10</td>\n",
       "      <td>-0.008737</td>\n",
       "      <td>0.002962</td>\n",
       "      <td>0.000085</td>\n",
       "    </tr>\n",
       "    <tr>\n",
       "      <th>13784</th>\n",
       "      <td>11</td>\n",
       "      <td>0.008198</td>\n",
       "      <td>0.012901</td>\n",
       "      <td>0.000234</td>\n",
       "    </tr>\n",
       "    <tr>\n",
       "      <th>1145</th>\n",
       "      <td>100</td>\n",
       "      <td>0.010864</td>\n",
       "      <td>0.024643</td>\n",
       "      <td>0.000725</td>\n",
       "    </tr>\n",
       "    <tr>\n",
       "      <th>...</th>\n",
       "      <td>...</td>\n",
       "      <td>...</td>\n",
       "      <td>...</td>\n",
       "      <td>...</td>\n",
       "    </tr>\n",
       "    <tr>\n",
       "      <th>2366</th>\n",
       "      <td>111111111011</td>\n",
       "      <td>-0.008653</td>\n",
       "      <td>-0.020225</td>\n",
       "      <td>0.000484</td>\n",
       "    </tr>\n",
       "    <tr>\n",
       "      <th>3259</th>\n",
       "      <td>111111111100</td>\n",
       "      <td>0.007954</td>\n",
       "      <td>-0.000898</td>\n",
       "      <td>0.000064</td>\n",
       "    </tr>\n",
       "    <tr>\n",
       "      <th>6082</th>\n",
       "      <td>111111111101</td>\n",
       "      <td>-0.010784</td>\n",
       "      <td>-0.002652</td>\n",
       "      <td>0.000123</td>\n",
       "    </tr>\n",
       "    <tr>\n",
       "      <th>82</th>\n",
       "      <td>111111111110</td>\n",
       "      <td>-0.015668</td>\n",
       "      <td>-0.011180</td>\n",
       "      <td>0.000370</td>\n",
       "    </tr>\n",
       "    <tr>\n",
       "      <th>4066</th>\n",
       "      <td>111111111111</td>\n",
       "      <td>0.010091</td>\n",
       "      <td>-0.002689</td>\n",
       "      <td>0.000109</td>\n",
       "    </tr>\n",
       "  </tbody>\n",
       "</table>\n",
       "<p>4096 rows × 4 columns</p>\n",
       "</div>"
      ],
      "text/plain": [
       "          bitstring  real_amp  complex_amp      prob\n",
       "7222              0  0.001091     0.002781  0.000009\n",
       "2867              1  0.017359    -0.016713  0.000581\n",
       "3582             10 -0.008737     0.002962  0.000085\n",
       "13784            11  0.008198     0.012901  0.000234\n",
       "1145            100  0.010864     0.024643  0.000725\n",
       "...             ...       ...          ...       ...\n",
       "2366   111111111011 -0.008653    -0.020225  0.000484\n",
       "3259   111111111100  0.007954    -0.000898  0.000064\n",
       "6082   111111111101 -0.010784    -0.002652  0.000123\n",
       "82     111111111110 -0.015668    -0.011180  0.000370\n",
       "4066   111111111111  0.010091    -0.002689  0.000109\n",
       "\n",
       "[4096 rows x 4 columns]"
      ]
     },
     "execution_count": 47,
     "metadata": {},
     "output_type": "execute_result"
    }
   ],
   "source": [
    "data"
   ]
  },
  {
   "cell_type": "code",
   "execution_count": 53,
   "id": "5b5ce5bd",
   "metadata": {},
   "outputs": [
    {
     "name": "stdout",
     "output_type": "stream",
     "text": [
      "F_xeb_12 = 0.017754664960002886\n",
      "F_xeb_14 = 0.009366204416004997\n",
      "F_xeb_16 = 0.003172134911886726\n",
      "\n",
      "F_xeb_12_ideal = 1.0292661084159946\n",
      "F_xeb_14_ideal = 1.060551585791988\n",
      "F_xeb_16_ideal = 1.1163100078076855\n"
     ]
    }
   ],
   "source": [
    "import json\n",
    "\n",
    "path = \"/home/ohad/work/sycamore_exp_project/src/data/D26.02.23_T19.51.56__exp_0__shots_500000/\"\n",
    "\n",
    "ideal_12 = f\"{path}circuit_0__num_qubits_12__depth_500/circuit_0__num_qubits_12__\" \\\n",
    "    \"depth_500__noise_model_ideal__nonzero_rate_0.99.json\"\n",
    "noisy_12 = f\"{path}circuit_0__num_qubits_12__depth_500/circuit_0__num_qubits_12__\" \\\n",
    "    \"depth_500__noise_model_basic_depolarization_model__nonzero_rate_1.0.json\"\n",
    "\n",
    "ideal_14 = f\"{path}circuit_1__num_qubits_14__depth_500/circuit_1__num_qubits_14__\" \\\n",
    "    \"depth_500__noise_model_ideal__nonzero_rate_0.97.json\"\n",
    "noisy_14 = f\"{path}circuit_1__num_qubits_14__depth_500/circuit_1__num_qubits_14__\" \\\n",
    "    \"depth_500__noise_model_basic_depolarization_model__nonzero_rate_1.0.json\"\n",
    "\n",
    "ideal_16 = f\"{path}circuit_2__num_qubits_16__depth_501/circuit_2__num_qubits_16__\" \\\n",
    "    \"depth_501__noise_model_ideal__nonzero_rate_0.89.json\"\n",
    "noisy_16 = f\"{path}circuit_2__num_qubits_16__depth_501/circuit_2__num_qubits_16__\" \\\n",
    "    \"depth_501__noise_model_basic_depolarization_model__nonzero_rate_1.0.json\"\n",
    "\n",
    "def compute_f_xeb(n: int, ideal_p_dist_path: str, noisy_q_dist_path: str):\n",
    "    \"\"\"\n",
    "    \"\"\"\n",
    "    \n",
    "    with open(ideal_p_dist_path, \"r\") as ideal_file:\n",
    "        ideal_data = json.load(ideal_file)\n",
    "\n",
    "    with open(noisy_q_dist_path, \"r\") as noisy_file:\n",
    "        noisy_data = json.load(noisy_file)\n",
    "\n",
    "    ideal_p_dist = [float(p) for p in ideal_data.values()]\n",
    "    noisy_q_dist = [float(q) for q in noisy_data.values()]\n",
    "\n",
    "    f_xeb = (2 ** n) * sum([p * q for p, q in zip(ideal_p_dist, noisy_q_dist)]) - 1\n",
    "    return f_xeb\n",
    "\n",
    "print(f\"F_xeb_12 = {compute_f_xeb(12, ideal_12, noisy_12)}\")\n",
    "print(f\"F_xeb_14 = {compute_f_xeb(14, ideal_14, noisy_14)}\")\n",
    "print(f\"F_xeb_16 = {compute_f_xeb(16, ideal_16, noisy_16)}\")\n",
    "\n",
    "print()\n",
    "print(f\"F_xeb_12_ideal = {compute_f_xeb(12, ideal_12, ideal_12)}\")\n",
    "print(f\"F_xeb_14_ideal = {compute_f_xeb(14, ideal_14, ideal_14)}\")\n",
    "print(f\"F_xeb_16_ideal = {compute_f_xeb(16, ideal_16, ideal_16)}\")"
   ]
  },
  {
   "cell_type": "code",
   "execution_count": 59,
   "id": "7875c7c2",
   "metadata": {},
   "outputs": [],
   "source": [
    "n = 12\n",
    "with open(ideal_12, \"r\") as ideal_file:\n",
    "    ideal_data = json.load(ideal_file)\n",
    "\n",
    "google_data = data\n",
    "\n",
    "ideal_p_dist = [float(p) for p in ideal_data.values()]\n",
    "google_q_dist = data['prob']\n",
    "\n",
    "f_xeb = (2 ** n) * sum([p * q for p, q in zip(ideal_p_dist, google_q_dist)]) - 1"
   ]
  },
  {
   "cell_type": "code",
   "execution_count": 60,
   "id": "8c4b73b9",
   "metadata": {},
   "outputs": [
    {
     "data": {
      "text/plain": [
       "-0.009280997680943814"
      ]
     },
     "execution_count": 60,
     "metadata": {},
     "output_type": "execute_result"
    }
   ],
   "source": [
    "f_xeb"
   ]
  }
 ],
 "metadata": {
  "kernelspec": {
   "display_name": "Python 3 (ipykernel)",
   "language": "python",
   "name": "python3"
  },
  "language_info": {
   "codemirror_mode": {
    "name": "ipython",
    "version": 3
   },
   "file_extension": ".py",
   "mimetype": "text/x-python",
   "name": "python",
   "nbconvert_exporter": "python",
   "pygments_lexer": "ipython3",
   "version": "3.10.9"
  }
 },
 "nbformat": 4,
 "nbformat_minor": 5
}
