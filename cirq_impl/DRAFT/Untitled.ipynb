{
 "cells": [
  {
   "cell_type": "code",
   "execution_count": 11,
   "id": "634df702",
   "metadata": {},
   "outputs": [
    {
     "name": "stdout",
     "output_type": "stream",
     "text": [
      "The exact probabilites calculated from the statevector: [8.92195946e-06 5.80668555e-04 8.51136338e-05 ... 1.23330348e-04\n",
      " 3.70480474e-04 1.09062334e-04]\n",
      "\n",
      "The raw Google's amplitudes-data and its calculated probabilities:\n"
     ]
    },
    {
     "data": {
      "text/html": [
       "<div>\n",
       "<style scoped>\n",
       "    .dataframe tbody tr th:only-of-type {\n",
       "        vertical-align: middle;\n",
       "    }\n",
       "\n",
       "    .dataframe tbody tr th {\n",
       "        vertical-align: top;\n",
       "    }\n",
       "\n",
       "    .dataframe thead th {\n",
       "        text-align: right;\n",
       "    }\n",
       "</style>\n",
       "<table border=\"1\" class=\"dataframe\">\n",
       "  <thead>\n",
       "    <tr style=\"text-align: right;\">\n",
       "      <th></th>\n",
       "      <th>bitstring</th>\n",
       "      <th>real_amp</th>\n",
       "      <th>imag_amp</th>\n",
       "      <th>probs</th>\n",
       "    </tr>\n",
       "  </thead>\n",
       "  <tbody>\n",
       "    <tr>\n",
       "      <th>7222</th>\n",
       "      <td>000000000000</td>\n",
       "      <td>0.001091</td>\n",
       "      <td>0.002781</td>\n",
       "      <td>0.000009</td>\n",
       "    </tr>\n",
       "    <tr>\n",
       "      <th>2867</th>\n",
       "      <td>000000000001</td>\n",
       "      <td>0.017359</td>\n",
       "      <td>-0.016713</td>\n",
       "      <td>0.000581</td>\n",
       "    </tr>\n",
       "    <tr>\n",
       "      <th>3582</th>\n",
       "      <td>000000000010</td>\n",
       "      <td>-0.008737</td>\n",
       "      <td>0.002962</td>\n",
       "      <td>0.000085</td>\n",
       "    </tr>\n",
       "    <tr>\n",
       "      <th>13784</th>\n",
       "      <td>000000000011</td>\n",
       "      <td>0.008198</td>\n",
       "      <td>0.012901</td>\n",
       "      <td>0.000234</td>\n",
       "    </tr>\n",
       "    <tr>\n",
       "      <th>1145</th>\n",
       "      <td>000000000100</td>\n",
       "      <td>0.010864</td>\n",
       "      <td>0.024643</td>\n",
       "      <td>0.000725</td>\n",
       "    </tr>\n",
       "    <tr>\n",
       "      <th>...</th>\n",
       "      <td>...</td>\n",
       "      <td>...</td>\n",
       "      <td>...</td>\n",
       "      <td>...</td>\n",
       "    </tr>\n",
       "    <tr>\n",
       "      <th>2366</th>\n",
       "      <td>111111111011</td>\n",
       "      <td>-0.008653</td>\n",
       "      <td>-0.020225</td>\n",
       "      <td>0.000484</td>\n",
       "    </tr>\n",
       "    <tr>\n",
       "      <th>3259</th>\n",
       "      <td>111111111100</td>\n",
       "      <td>0.007954</td>\n",
       "      <td>-0.000898</td>\n",
       "      <td>0.000064</td>\n",
       "    </tr>\n",
       "    <tr>\n",
       "      <th>6082</th>\n",
       "      <td>111111111101</td>\n",
       "      <td>-0.010784</td>\n",
       "      <td>-0.002652</td>\n",
       "      <td>0.000123</td>\n",
       "    </tr>\n",
       "    <tr>\n",
       "      <th>82</th>\n",
       "      <td>111111111110</td>\n",
       "      <td>-0.015668</td>\n",
       "      <td>-0.011180</td>\n",
       "      <td>0.000370</td>\n",
       "    </tr>\n",
       "    <tr>\n",
       "      <th>4066</th>\n",
       "      <td>111111111111</td>\n",
       "      <td>0.010091</td>\n",
       "      <td>-0.002689</td>\n",
       "      <td>0.000109</td>\n",
       "    </tr>\n",
       "  </tbody>\n",
       "</table>\n",
       "<p>4096 rows × 4 columns</p>\n",
       "</div>"
      ],
      "text/plain": [
       "          bitstring  real_amp  imag_amp     probs\n",
       "7222   000000000000  0.001091  0.002781  0.000009\n",
       "2867   000000000001  0.017359 -0.016713  0.000581\n",
       "3582   000000000010 -0.008737  0.002962  0.000085\n",
       "13784  000000000011  0.008198  0.012901  0.000234\n",
       "1145   000000000100  0.010864  0.024643  0.000725\n",
       "...             ...       ...       ...       ...\n",
       "2366   111111111011 -0.008653 -0.020225  0.000484\n",
       "3259   111111111100  0.007954 -0.000898  0.000064\n",
       "6082   111111111101 -0.010784 -0.002652  0.000123\n",
       "82     111111111110 -0.015668 -0.011180  0.000370\n",
       "4066   111111111111  0.010091 -0.002689  0.000109\n",
       "\n",
       "[4096 rows x 4 columns]"
      ]
     },
     "execution_count": 11,
     "metadata": {},
     "output_type": "execute_result"
    }
   ],
   "source": [
    "import matplotlib.pyplot as plt\n",
    "import numpy as np\n",
    "import cirq\n",
    "import qsimcirq\n",
    "\n",
    "from n12_m14_s0_eo.circuit_n12_m14_s0_e0_pEFGH import CIRCUIT, QUBIT_ORDER\n",
    "from sycamore_exp import SycamoreExp\n",
    "\n",
    "num_qubits = 12\n",
    "num_cycles = 14\n",
    "data_file_path = \"n12_m14_s0_eo/amplitudes_n12_m14_s0_e0_pEFGH.txt\"\n",
    "interface = SycamoreExp(name=\"try\", num_qubits=num_qubits, num_cycles=num_cycles)\n",
    "\n",
    "simulated_statevector = interface.circuit_ideal_amps(CIRCUIT)\n",
    "statevector_probs = np.abs(simulated_statevector)**2\n",
    "raw_df, curated_df = interface.data_file_to_df(data_file_path)\n",
    "\n",
    "print(f\"The exact probabilites calculated from the statevector: {statevector_probs}\")\n",
    "print()\n",
    "\n",
    "print(\"The raw Google's amplitudes-data and its calculated probabilities:\")\n",
    "curated_df"
   ]
  },
  {
   "cell_type": "code",
   "execution_count": 15,
   "id": "bde5f58f",
   "metadata": {},
   "outputs": [
    {
     "data": {
      "text/plain": [
       "7222     0.036546\n",
       "2867     2.378409\n",
       "3582     0.348632\n",
       "13784    0.956976\n",
       "1145     2.970854\n",
       "           ...   \n",
       "2366     1.982160\n",
       "3259     0.262441\n",
       "6082     0.505167\n",
       "82       1.517484\n",
       "4066     0.446714\n",
       "Name: probs, Length: 4096, dtype: float64"
      ]
     },
     "execution_count": 15,
     "metadata": {},
     "output_type": "execute_result"
    }
   ],
   "source": [
    "scaled_probs = curated_df[\"probs\"] * interface.hilbert_dim\n",
    "scaled_probs"
   ]
  },
  {
   "cell_type": "code",
   "execution_count": 72,
   "id": "159d0217",
   "metadata": {},
   "outputs": [
    {
     "data": {
      "text/plain": [
       "10592    0.999834\n",
       "1277     0.999446\n",
       "6535     0.998729\n",
       "6146     0.998513\n",
       "11244    0.998253\n",
       "           ...   \n",
       "320      0.000637\n",
       "1340     0.000452\n",
       "1484     0.000409\n",
       "633      0.000380\n",
       "227      0.000022\n",
       "Name: probs, Length: 4096, dtype: float64"
      ]
     },
     "execution_count": 72,
     "metadata": {},
     "output_type": "execute_result"
    }
   ],
   "source": [
    "np.e**-scaled_probs.sort_values()"
   ]
  },
  {
   "cell_type": "code",
   "execution_count": 80,
   "id": "a36f14d4",
   "metadata": {},
   "outputs": [
    {
     "data": {
      "text/plain": [
       "array([ 0.        ,  0.21905392,  0.43810784,  0.65716176,  0.87621568,\n",
       "        1.0952696 ,  1.31432352,  1.53337744,  1.75243136,  1.97148528,\n",
       "        2.1905392 ,  2.40959312,  2.62864704,  2.84770096,  3.06675488,\n",
       "        3.2858088 ,  3.50486272,  3.72391664,  3.94297056,  4.16202449,\n",
       "        4.38107841,  4.60013233,  4.81918625,  5.03824017,  5.25729409,\n",
       "        5.47634801,  5.69540193,  5.91445585,  6.13350977,  6.35256369,\n",
       "        6.57161761,  6.79067153,  7.00972545,  7.22877937,  7.44783329,\n",
       "        7.66688721,  7.88594113,  8.10499505,  8.32404897,  8.54310289,\n",
       "        8.76215681,  8.98121073,  9.20026465,  9.41931857,  9.63837249,\n",
       "        9.85742641, 10.07648033, 10.29553425, 10.51458817, 10.73364209])"
      ]
     },
     "execution_count": 80,
     "metadata": {},
     "output_type": "execute_result"
    }
   ],
   "source": [
    "x = np.linspace(0, max(scaled_probs))\n",
    "x"
   ]
  },
  {
   "cell_type": "code",
   "execution_count": 95,
   "id": "5a333213",
   "metadata": {},
   "outputs": [
    {
     "data": {
      "image/png": "[encoded data removed]",
      "text/plain": [
       "<Figure size 1200x500 with 1 Axes>"
      ]
     },
     "metadata": {},
     "output_type": "display_data"
    }
   ],
   "source": [
    "plt.figure(figsize=(12,5))\n",
    "\n",
    "plt.hist(scaled_probs, bins=70, density=True, rwidth=0.9)\n",
    "plt.plot(x, np.e**-x)\n",
    "\n",
    "plt.title(\"Porter-Thomas distribution of Google's raw data for n=12, m=14\")\n",
    "plt.xlabel(\"Scaled probabilities\")\n",
    "plt.ylabel(\"\")\n",
    "\n",
    "plt.show()"
   ]
  },
  {
   "cell_type": "code",
   "execution_count": 28,
   "id": "c4d58079",
   "metadata": {},
   "outputs": [
    {
     "data": {
      "text/plain": [
       "4096"
      ]
     },
     "execution_count": 28,
     "metadata": {},
     "output_type": "execute_result"
    }
   ],
   "source": [
    "len(scaled_probs)"
   ]
  },
  {
   "cell_type": "code",
   "execution_count": null,
   "id": "69e59c87",
   "metadata": {},
   "outputs": [],
   "source": []
  }
 ],
 "metadata": {
  "kernelspec": {
   "display_name": "Python 3 (ipykernel)",
   "language": "python",
   "name": "python3"
  },
  "language_info": {
   "codemirror_mode": {
    "name": "ipython",
    "version": 3
   },
   "file_extension": ".py",
   "mimetype": "text/x-python",
   "name": "python",
   "nbconvert_exporter": "python",
   "pygments_lexer": "ipython3",
   "version": "3.10.9"
  }
 },
 "nbformat": 4,
 "nbformat_minor": 5
}
