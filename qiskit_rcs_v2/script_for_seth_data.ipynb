{
 "cells": [
  {
   "cell_type": "code",
   "execution_count": null,
   "id": "59d06110",
   "metadata": {},
   "outputs": [],
   "source": [
    "import json\n",
    "\n",
    "from qiskit import qpy\n",
    "from qiskit_ibm_provider import IBMProvider\n",
    "\n",
    "\n",
    "provider = IBMProvider(instance=\"ibm-q-internal/performance/benchmark\")\n",
    "job = provider.retrieve_job(\"cgrch8k5firv71231d00\")\n",
    "\n",
    "with open(\"counts.json\", \"w\") as jf:\n",
    "    json.dump(job.result().get_counts(), jf)\n",
    "    \n",
    "with open(\"circuits.qpy\", \"wb\") as qf:\n",
    "    qpy.dump(job.circuits(), qf)"
   ]
  }
 ],
 "metadata": {
  "kernelspec": {
   "display_name": "Python 3 (ipykernel)",
   "language": "python",
   "name": "python3"
  },
  "language_info": {
   "codemirror_mode": {
    "name": "ipython",
    "version": 3
   },
   "file_extension": ".py",
   "mimetype": "text/x-python",
   "name": "python",
   "nbconvert_exporter": "python",
   "pygments_lexer": "ipython3",
   "version": "3.10.9"
  }
 },
 "nbformat": 4,
 "nbformat_minor": 5
}
